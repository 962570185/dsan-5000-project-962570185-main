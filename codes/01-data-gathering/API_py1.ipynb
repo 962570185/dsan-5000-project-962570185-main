{
 "cells": [
  {
   "cell_type": "code",
   "execution_count": 2,
   "metadata": {},
   "outputs": [
    {
     "name": "stdout",
     "output_type": "stream",
     "text": [
      "2000\n"
     ]
    }
   ],
   "source": [
    "from tmdbv3api import TMDb\n",
    "from tmdbv3api import Movie\n",
    "\n",
    "tmdb = TMDb()\n",
    "tmdb.api_key = 'ee92e4b5b0ecbb502b09736371357702'\n",
    "\n",
    "movie = Movie()\n",
    "\n",
    "movies_data = []\n",
    "\n",
    "num_pages = 100  \n",
    "movies_per_page = 50 \n",
    "\n",
    "for page in range(1, num_pages + 1):\n",
    "\n",
    "    page_data = movie.popular(page=page)\n",
    "\n",
    "    movies_data.extend(page_data)\n",
    "\n",
    "\n",
    "print(len(movies_data))\n",
    "\n"
   ]
  },
  {
   "cell_type": "code",
   "execution_count": 14,
   "metadata": {},
   "outputs": [
    {
     "name": "stdout",
     "output_type": "stream",
     "text": [
      "电影数据已成功保存到 raw_data_py1.csv\n"
     ]
    }
   ],
   "source": [
    "import csv\n",
    "\n",
    "\n",
    "output_file = \"../../data/00-raw-data/raw_data_py1.csv\"\n",
    "\n",
    "\n",
    "with open(output_file, mode='w', newline='', encoding='utf-8') as file:\n",
    "\n",
    "    writer = csv.writer(file)\n",
    "\n",
    "    header = ['id', 'title', 'overview', 'popularity', 'release_date', 'vote_average', 'vote_count']\n",
    "    writer.writerow(header)\n",
    "\n",
    "    for movie in movies_data:\n",
    "\n",
    "        if 'release_date' in movie:\n",
    "            release_date = movie['release_date']\n",
    "        else:\n",
    "            release_date = ''  \n",
    "\n",
    "        movie_id = movie['id']\n",
    "        title = movie['title']\n",
    "        overview = movie['overview']\n",
    "        popularity = movie['popularity']\n",
    "        vote_average = movie['vote_average']\n",
    "        vote_count = movie['vote_count']\n",
    "        \n",
    "        writer.writerow([movie_id, title, overview, popularity, release_date, vote_average, vote_count])\n",
    "\n",
    "print(f\"电影数据已成功保存到 {output_file}\")\n",
    "\n",
    "\n"
   ]
  },
  {
   "cell_type": "code",
   "execution_count": 9,
   "metadata": {},
   "outputs": [
    {
     "name": "stdout",
     "output_type": "stream",
     "text": [
      "{'adult': False, 'backdrop_path': '/cHNqobjzfLj88lpIYqkZpecwQEC.jpg', 'genre_ids': [28, 53, 80, 18], 'id': 926393, 'original_language': 'en', 'original_title': 'The Equalizer 3', 'overview': \"Robert McCall finds himself at home in Southern Italy but he discovers his friends are under the control of local crime bosses. As events turn deadly, McCall knows what he has to do: become his friends' protector by taking on the mafia.\", 'popularity': 3197.13, 'poster_path': '/b0Ej6fnXAP8fK75hlyi2jKqdhHz.jpg', 'release_date': '2023-08-30', 'title': 'The Equalizer 3', 'video': False, 'vote_average': 7.3, 'vote_count': 671}\n"
     ]
    }
   ],
   "source": [
    "\n",
    "print(movies_data[0])\n"
   ]
  },
  {
   "cell_type": "code",
   "execution_count": 3,
   "metadata": {},
   "outputs": [],
   "source": [
    "import pandas as pd\n",
    "\n",
    "input_file = \"../../data./00-raw-data/raw_data_py1.csv\"\n",
    "df = pd.read_csv(input_file)\n",
    "\n",
    "df.dropna(inplace=True)\n",
    "\n",
    "df['popularity'] = df['popularity'].astype(float)\n",
    "\n",
    "df.drop_duplicates(inplace=True)\n",
    "\n",
    "cleaned_file = \"../../data/01-modified-data/cleaned_data_py1.csv\"\n",
    "df.to_csv(cleaned_file, index=False)\n",
    "\n"
   ]
  }
 ],
 "metadata": {
  "kernelspec": {
   "display_name": "base",
   "language": "python",
   "name": "python3"
  },
  "language_info": {
   "codemirror_mode": {
    "name": "ipython",
    "version": 3
   },
   "file_extension": ".py",
   "mimetype": "text/x-python",
   "name": "python",
   "nbconvert_exporter": "python",
   "pygments_lexer": "ipython3",
   "version": "3.10.13"
  }
 },
 "nbformat": 4,
 "nbformat_minor": 2
}
